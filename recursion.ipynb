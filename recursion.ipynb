{
 "cells": [
  {
   "cell_type": "markdown",
   "metadata": {},
   "source": [
    "# Recursion Experimentation\n",
    "\n",
    "## Executive Summary\n",
    "Recursive functions are a method of implementation using the \"call stack.\" Although often preferred for simplicity, recursive programs are known to be slower and require more memory than their iterative counterparts. Every function that can be implemented recursively can also be implemented iteratively. In this experiment we show that both algorithms are fast for calculating large factorial numbers, but on average the recursive function is slower than the iterative method (as expected). Assuming multiplication is a constant time operation $O(1)$, then both the recursive and iterative implementation of a factorial function are said to be in $O(n)$ time complexity. "
   ]
  },
  {
   "cell_type": "code",
   "execution_count": null,
   "metadata": {},
   "outputs": [],
   "source": [
    "import numpy as np\n",
    "import pandas as pd\n",
    "import time\n",
    "import string\n",
    "import random\n",
    "import matplotlib.pyplot as plt\n",
    "\n",
    "\n",
    "plt.style.use('bmh')\n",
    "np.random.seed = 34 #set seed\n",
    "LOG = {} # Define Log\n",
    "\n",
    "arr_size = 10\n",
    "array_test = np.random.randint(100,500,arr_size)"
   ]
  },
  {
   "cell_type": "markdown",
   "metadata": {},
   "source": [
    "## Timing Mechanism\n",
    "The timing mechanism used in this experiment wraps functions and times their overall time to return function output.\n",
    "A dictionary \"LOG\" is updated with the output times of the functions"
   ]
  },
  {
   "cell_type": "code",
   "execution_count": null,
   "metadata": {},
   "outputs": [],
   "source": [
    "def timeit(log):\n",
    "    \"\"\" Wraps functions needing timing provided a dictionary to dump into based on function name\"\"\"\n",
    "    def log_it(func):\n",
    "        def wrapped(*args, **kw):\n",
    "            ts = time.time_ns() // 1000000 \n",
    "            result = func(*args, **kw)\n",
    "            te = time.time_ns() // 1000000 \n",
    "            if func.__name__ in log.keys():\n",
    "                log[func.__name__].append(te-ts)\n",
    "            else:\n",
    "                log[func.__name__] = [te-ts]\n",
    "            return result\n",
    "        return wrapped\n",
    "    return log_it"
   ]
  },
  {
   "cell_type": "markdown",
   "metadata": {},
   "source": [
    "## Factorial (For Loop) \n",
    "\n",
    "The iterative factorial function sets a range of numbers based on the provided input, and loops through times equalling the value. When the descending loop is finished, the value is returned."
   ]
  },
  {
   "cell_type": "code",
   "execution_count": 3,
   "metadata": {},
   "outputs": [],
   "source": [
    "@timeit(LOG)\n",
    "def factorial(number):\n",
    "    value = 1\n",
    "    for e in range(1,number+1):\n",
    "        value *= e\n",
    "    return value\n"
   ]
  },
  {
   "cell_type": "code",
   "execution_count": 4,
   "metadata": {},
   "outputs": [],
   "source": [
    "facs = []\n",
    "for test_element in array_test:\n",
    "    f = factorial(test_element)\n",
    "    facs.append(f)"
   ]
  },
  {
   "cell_type": "markdown",
   "metadata": {},
   "source": [
    "## Factorial (Recursive Stack) \n",
    "\n",
    "The decorator function requires timing of the full recursive stack and so it requires a wrapper function to capture the entire recursive call stack. "
   ]
  },
  {
   "cell_type": "code",
   "execution_count": 5,
   "metadata": {},
   "outputs": [],
   "source": [
    "@timeit(LOG)\n",
    "def factorial_full_recursive_stack(n):\n",
    "    def factorial_recur(n):\n",
    "        if n == 1:\n",
    "            return 1\n",
    "        rn = n*factorial_recur(n-1)  \n",
    "        return rn\n",
    "\n",
    "    return factorial_recur(n)"
   ]
  },
  {
   "cell_type": "code",
   "execution_count": 6,
   "metadata": {},
   "outputs": [],
   "source": [
    "facs_recur = []\n",
    "for test_element in array_test:\n",
    "    test_element = int(test_element)\n",
    "    f = factorial_full_recursive_stack(test_element)\n",
    "    facs_recur.append(f)"
   ]
  },
  {
   "cell_type": "markdown",
   "metadata": {},
   "source": [
    "## Check Equality\n",
    "\n",
    "The outputted answers by each algorithm implementation are equivalent."
   ]
  },
  {
   "cell_type": "code",
   "execution_count": 7,
   "metadata": {},
   "outputs": [
    {
     "data": {
      "text/plain": [
       "True"
      ]
     },
     "execution_count": 7,
     "metadata": {},
     "output_type": "execute_result"
    }
   ],
   "source": [
    "facs == facs_recur"
   ]
  },
  {
   "cell_type": "markdown",
   "metadata": {},
   "source": [
    "## Results / Visualization\n",
    "\n",
    "The results show that the python implementations of a factorial function in recursive or iterative methods do not differ much in their processing time. In fact the difference is negligable in both cases given that the most common time taken to process was 0ms. However, the average run time for the iterative implementation of the factorial algorithm was .4ms faster (.1ms) than the recursive implementation (.5ms). This suggests and confirms that iterative methods are faster than recursive methods. The main advantage of using a recursive method is thought to be implemented more intuitively by the programmer. In my experience the iterative implementation is much shorter, more consise, and faster than its recursive counterpart.\n",
    "\n",
    "##### Time Complexity\n",
    "Although many of the timings below are near 0 milliseconds, if we analyze the algorithms they appear to be on a time complexity of $O(n)$. In the iterative case, the algorithm just makes one pass for the range of the input number with one multiplication action at each step (multiplication is assumed to be $O(1)$, but this is often debated when analyzing the time complexity of factorial algorithms). In the recursive case, the call stack will also go to the depth of the range of the input number and if we assume multiplication is $O(1)$ again, the time complexity is also $O(n)$.\n",
    "\n"
   ]
  },
  {
   "cell_type": "code",
   "execution_count": 8,
   "metadata": {},
   "outputs": [],
   "source": [
    "df = pd.DataFrame({\n",
    "    'number_to_factorial':array_test,\n",
    "    'for_loop(ms)': LOG['factorial'],\n",
    "    'recursive(ms)': LOG['factorial_full_recursive_stack'],\n",
    "    'factorial':list(map(str, facs)),\n",
    "})\n",
    "df['time_difference'] = df['for_loop(ms)'] - df['recursive(ms)']\n"
   ]
  },
  {
   "cell_type": "code",
   "execution_count": 9,
   "metadata": {},
   "outputs": [
    {
     "data": {
      "text/html": [
       "<div>\n",
       "<style scoped>\n",
       "    .dataframe tbody tr th:only-of-type {\n",
       "        vertical-align: middle;\n",
       "    }\n",
       "\n",
       "    .dataframe tbody tr th {\n",
       "        vertical-align: top;\n",
       "    }\n",
       "\n",
       "    .dataframe thead th {\n",
       "        text-align: right;\n",
       "    }\n",
       "</style>\n",
       "<table border=\"1\" class=\"dataframe\">\n",
       "  <thead>\n",
       "    <tr style=\"text-align: right;\">\n",
       "      <th></th>\n",
       "      <th>number_to_factorial</th>\n",
       "      <th>for_loop(ms)</th>\n",
       "      <th>recursive(ms)</th>\n",
       "      <th>factorial</th>\n",
       "      <th>time_difference</th>\n",
       "    </tr>\n",
       "  </thead>\n",
       "  <tbody>\n",
       "    <tr>\n",
       "      <th>0</th>\n",
       "      <td>468</td>\n",
       "      <td>0</td>\n",
       "      <td>1</td>\n",
       "      <td>1443882658169499166327952709151618897675331405...</td>\n",
       "      <td>-1</td>\n",
       "    </tr>\n",
       "    <tr>\n",
       "      <th>1</th>\n",
       "      <td>198</td>\n",
       "      <td>0</td>\n",
       "      <td>1</td>\n",
       "      <td>1981552430564800260181817120432625784661145672...</td>\n",
       "      <td>-1</td>\n",
       "    </tr>\n",
       "    <tr>\n",
       "      <th>2</th>\n",
       "      <td>195</td>\n",
       "      <td>0</td>\n",
       "      <td>0</td>\n",
       "      <td>2591899036156656511480987645585432937922090573...</td>\n",
       "      <td>0</td>\n",
       "    </tr>\n",
       "    <tr>\n",
       "      <th>3</th>\n",
       "      <td>158</td>\n",
       "      <td>0</td>\n",
       "      <td>0</td>\n",
       "      <td>1853271869493734796543609753051078529682360939...</td>\n",
       "      <td>0</td>\n",
       "    </tr>\n",
       "    <tr>\n",
       "      <th>4</th>\n",
       "      <td>410</td>\n",
       "      <td>0</td>\n",
       "      <td>0</td>\n",
       "      <td>7695091858866763366263438655668964498487195079...</td>\n",
       "      <td>0</td>\n",
       "    </tr>\n",
       "  </tbody>\n",
       "</table>\n",
       "</div>"
      ],
      "text/plain": [
       "   number_to_factorial  for_loop(ms)  recursive(ms)  \\\n",
       "0                  468             0              1   \n",
       "1                  198             0              1   \n",
       "2                  195             0              0   \n",
       "3                  158             0              0   \n",
       "4                  410             0              0   \n",
       "\n",
       "                                           factorial  time_difference  \n",
       "0  1443882658169499166327952709151618897675331405...               -1  \n",
       "1  1981552430564800260181817120432625784661145672...               -1  \n",
       "2  2591899036156656511480987645585432937922090573...                0  \n",
       "3  1853271869493734796543609753051078529682360939...                0  \n",
       "4  7695091858866763366263438655668964498487195079...                0  "
      ]
     },
     "execution_count": 9,
     "metadata": {},
     "output_type": "execute_result"
    }
   ],
   "source": [
    "df.head()"
   ]
  },
  {
   "cell_type": "code",
   "execution_count": 10,
   "metadata": {},
   "outputs": [
    {
     "data": {
      "text/plain": [
       "number_to_factorial    284.7\n",
       "for_loop(ms)             0.1\n",
       "recursive(ms)            0.5\n",
       "factorial                inf\n",
       "time_difference         -0.4\n",
       "dtype: float64"
      ]
     },
     "execution_count": 10,
     "metadata": {},
     "output_type": "execute_result"
    }
   ],
   "source": [
    "df.mean()"
   ]
  },
  {
   "cell_type": "code",
   "execution_count": 11,
   "metadata": {},
   "outputs": [
    {
     "data": {
      "text/plain": [
       "<matplotlib.legend.Legend at 0x1a97ceabf40>"
      ]
     },
     "execution_count": 11,
     "metadata": {},
     "output_type": "execute_result"
    },
    {
     "data": {
      "image/png": "[encoded data removed]",
      "text/plain": [
       "<Figure size 1080x432 with 2 Axes>"
      ]
     },
     "metadata": {
      "needs_background": "light"
     },
     "output_type": "display_data"
    }
   ],
   "source": [
    "import seaborn as sns\n",
    "fig, axes = plt.subplots(nrows = 1, ncols = 2, figsize = (15,6))\n",
    "ax1,ax2 = axes.flatten()\n",
    "\n",
    "ax1.scatter(df['number_to_factorial'], df['for_loop(ms)'],label = 'For Loop')\n",
    "ax1.scatter(df['number_to_factorial'], df['recursive(ms)'], label = 'Recursion')\n",
    "ax1.set_title('Scatter plot of factorial calculation time')\n",
    "ax1.set_xlabel('Number (factorial input)')\n",
    "ax1.set_ylabel('Time (ms)')\n",
    "ax1.legend()\n",
    "\n",
    "sns.kdeplot(df['for_loop(ms)'],label = 'For Loop',  ax = ax2)\n",
    "sns.kdeplot( df['recursive(ms)'], label = 'Recursion',  ax = ax2)\n",
    "ax2.set_title('Density plot of factorial calculation time')\n",
    "ax2.set_xlabel('Number (factorial input)')\n",
    "ax2.set_ylabel('Time (ms)')\n",
    "ax2.legend()\n",
    "\n"
   ]
  },
  {
   "cell_type": "code",
   "execution_count": null,
   "metadata": {},
   "outputs": [],
   "source": []
  },
  {
   "cell_type": "code",
   "execution_count": null,
   "metadata": {},
   "outputs": [],
   "source": []
  }
 ],
 "metadata": {
  "kernelspec": {
   "display_name": "Python 3",
   "language": "python",
   "name": "python3"
  },
  "language_info": {
   "codemirror_mode": {
    "name": "ipython",
    "version": 3
   },
   "file_extension": ".py",
   "mimetype": "text/x-python",
   "name": "python",
   "nbconvert_exporter": "python",
   "pygments_lexer": "ipython3",
   "version": "3.8.5"
  }
 },
 "nbformat": 4,
 "nbformat_minor": 4
}
