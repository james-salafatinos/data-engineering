{
 "cells": [
  {
   "cell_type": "markdown",
   "metadata": {},
   "source": [
    "# Instructions\n",
    "Set up an array of ten random numbers between 100 and 500 (just one array with 10 numbers).\n",
    "Calculate the factorial of each of the numbers using a simple FOR loop.  Please capture the start/end times and store the results in an array, or linked list, or dictionary.  \n",
    "Calculate the factorial of each of the numbers using recursion.  Please capture the start/end times and store the results in an array, or linked list, or dictionary.\n",
    "Organize the results of the study into a table showing the number, it's factorial, the time to calculate the factorial using recursion, the time to calculate factorial using FOR loop, and the difference between times.\n",
    "Use python matplotlib or seaborn to generate a graph that has number on the horizontal axis and with execution time in milliseconds on the vertical axis. The plot should show execution times of recursion and the loop."
   ]
  },
  {
   "cell_type": "code",
   "execution_count": 5,
   "metadata": {},
   "outputs": [],
   "source": [
    "import numpy as np\n",
    "import pandas as pd\n",
    "import time\n",
    "import string\n",
    "import random\n",
    "import matplotlib.pyplot as plt\n",
    "\n",
    "\n",
    "plt.style.use('bmh')\n",
    "np.random.seed = 34 #set seed\n",
    "LOG = {} # Define Log\n",
    "\n",
    "arr_size = 10\n",
    "array_test = np.random.randint(100,500,arr_size)"
   ]
  },
  {
   "cell_type": "markdown",
   "metadata": {},
   "source": [
    "### Timing Mechanism\n",
    "The timing mechanism used in this experiment wraps functions and times their overall time to return function output.\n",
    "A dictionary \"LOG\" is updated with the output times of the functions"
   ]
  },
  {
   "cell_type": "code",
   "execution_count": 6,
   "metadata": {},
   "outputs": [],
   "source": [
    "def timeit(log):\n",
    "    \"\"\" Wraps functions needing timing provided a dictionary to dump into based on function name\"\"\"\n",
    "    def log_it(func):\n",
    "        def wrapped(*args, **kw):\n",
    "            ts = time.time_ns() // 1000000 \n",
    "            result = func(*args, **kw)\n",
    "            te = time.time_ns() // 1000000 \n",
    "            if func.__name__ in log.keys():\n",
    "                log[func.__name__].append(te-ts)\n",
    "            else:\n",
    "                log[func.__name__] = [te-ts]\n",
    "            return result\n",
    "        return wrapped\n",
    "    return log_it"
   ]
  },
  {
   "cell_type": "code",
   "execution_count": 5,
   "metadata": {},
   "outputs": [],
   "source": [
    "@timeit(LOG)\n",
    "def factorial(number):\n",
    "    value = 1\n",
    "    for e in range(1,number+1):\n",
    "        value *= e\n",
    "    return value\n"
   ]
  },
  {
   "cell_type": "code",
   "execution_count": 6,
   "metadata": {},
   "outputs": [],
   "source": [
    "facs = []\n",
    "for test_element in array_test:\n",
    "    f = factorial(test_element)\n",
    "    facs.append(f)"
   ]
  },
  {
   "cell_type": "code",
   "execution_count": 7,
   "metadata": {},
   "outputs": [
    {
     "data": {
      "text/plain": [
       "{'factorial': [7, 0, 0, 0, 0, 0, 0, 1, 0, 0]}"
      ]
     },
     "execution_count": 7,
     "metadata": {},
     "output_type": "execute_result"
    }
   ],
   "source": [
    "LOG"
   ]
  },
  {
   "cell_type": "code",
   "execution_count": 7,
   "metadata": {},
   "outputs": [],
   "source": [
    "@timeit(LOG)\n",
    "def factorial_full_recursive_stack(n):\n",
    "    def factorial_recur(n):\n",
    "        if n == 1:\n",
    "            return n\n",
    "        \n",
    "        return n*factorial_recur(n-1)  \n",
    "\n",
    "    return factorial_recur(n)"
   ]
  },
  {
   "cell_type": "code",
   "execution_count": 8,
   "metadata": {},
   "outputs": [
    {
     "name": "stderr",
     "output_type": "stream",
     "text": [
      "<ipython-input-7-459ad35cd5cf>:7: RuntimeWarning: overflow encountered in long_scalars\n",
      "  return n*factorial_recur(n-1)\n"
     ]
    }
   ],
   "source": [
    "facs_recur = []\n",
    "for test_element in array_test:\n",
    "    f = factorial_full_recursive_stack(test_element)\n",
    "    facs_recur.append(f)"
   ]
  },
  {
   "cell_type": "code",
   "execution_count": 9,
   "metadata": {},
   "outputs": [
    {
     "data": {
      "text/plain": [
       "{'factorial_full_recursive_stack': [2, 1, 2, 0, 1, 0, 0, 0, 0, 0]}"
      ]
     },
     "execution_count": 9,
     "metadata": {},
     "output_type": "execute_result"
    }
   ],
   "source": [
    "LOG\n"
   ]
  },
  {
   "cell_type": "code",
   "execution_count": null,
   "metadata": {},
   "outputs": [],
   "source": []
  }
 ],
 "metadata": {
  "kernelspec": {
   "display_name": "Python 3",
   "language": "python",
   "name": "python3"
  },
  "language_info": {
   "codemirror_mode": {
    "name": "ipython",
    "version": 3
   },
   "file_extension": ".py",
   "mimetype": "text/x-python",
   "name": "python",
   "nbconvert_exporter": "python",
   "pygments_lexer": "ipython3",
   "version": "3.8.5"
  }
 },
 "nbformat": 4,
 "nbformat_minor": 4
}
