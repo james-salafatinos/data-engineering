{
 "cells": [
  {
   "cell_type": "markdown",
   "metadata": {},
   "source": [
    "# Stack"
   ]
  },
  {
   "cell_type": "code",
   "execution_count": 47,
   "metadata": {},
   "outputs": [],
   "source": [
    "class Stack:\n",
    "    \"\"\"\n",
    "    LIFO\n",
    "    \"\"\"\n",
    "    def __init__(self, initial_trace = []):\n",
    "        self.trace = initial_trace\n",
    "        \n",
    "    def stack(self, item):\n",
    "        self.trace.append(item)\n",
    "        return self.trace\n",
    "    \n",
    "    def pop(self):\n",
    "        res = self.trace.pop(-1)\n",
    "        return res\n",
    "    \n",
    "    def __repr__(self):\n",
    "        return str(self.trace)\n",
    "    \n",
    "    def __str__(self):\n",
    "        return str(self.trace)\n",
    "    \n",
    "    "
   ]
  },
  {
   "cell_type": "markdown",
   "metadata": {},
   "source": [
    "# Queue"
   ]
  },
  {
   "cell_type": "code",
   "execution_count": 48,
   "metadata": {},
   "outputs": [],
   "source": [
    "class Queue:\n",
    "    \"\"\"\n",
    "    FIFO\n",
    "    \"\"\"\n",
    "    def __init__(self, initial_trace = []):\n",
    "        self.trace = initial_trace\n",
    "        \n",
    "    def queue(self, item):\n",
    "        self.trace.insert(0,item)\n",
    "        return self.trace\n",
    "    \n",
    "    def pop(self):\n",
    "        res = self.trace.pop(-1)\n",
    "        return res\n",
    "    \n",
    "    def __repr__(self):\n",
    "        return str(self.trace)\n",
    "    \n",
    "    def __str__(self):\n",
    "        return str(self.trace)"
   ]
  },
  {
   "cell_type": "markdown",
   "metadata": {},
   "source": [
    "# Linked List"
   ]
  },
  {
   "cell_type": "code",
   "execution_count": null,
   "metadata": {},
   "outputs": [],
   "source": []
  }
 ],
 "metadata": {
  "kernelspec": {
   "display_name": "Python 3",
   "language": "python",
   "name": "python3"
  },
  "language_info": {
   "codemirror_mode": {
    "name": "ipython",
    "version": 3
   },
   "file_extension": ".py",
   "mimetype": "text/x-python",
   "name": "python",
   "nbconvert_exporter": "python",
   "pygments_lexer": "ipython3",
   "version": "3.8.5"
  }
 },
 "nbformat": 4,
 "nbformat_minor": 4
}
