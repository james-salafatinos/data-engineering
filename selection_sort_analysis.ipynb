{
 "cells": [
  {
   "cell_type": "markdown",
   "metadata": {},
   "source": [
    "# Selection Sort Experimentation"
   ]
  },
  {
   "cell_type": "markdown",
   "metadata": {},
   "source": [
    "## Executive Summary"
   ]
  },
  {
   "cell_type": "markdown",
   "metadata": {},
   "source": [
    "We've generated random data for this assignment of five data arrays of length 5,000, 10,000, 15,000, 20,000, and 25,000 (uniformly distributed random ints, floats, and stinrgs).  A random number seed was used for reproducable results. In this experiment, we've performed a time comparison of the 5 different array lengths utilizing an algorithm called the \"Selection Sort.\" The Selection Sort is a part the class of sorting algorithms that make repeated comparisons to sort the array (contrasted with counting sorting methods). The selection sort runs in $O(n^2)$ time because it has to make a comparison between every item and every other item to determine the sorted order.  The selection sort quickly becomes an intractable method to use for sorting arrays larger than 30k elements. Even at 5,000 elements, which by computer standards is relatively small - the selection sort takes ~9 seconds to complete. This method given its limitations is highly restrictive in its general operability for quick personal use, let alone enterprise use!\n",
    "\n",
    "High Level Results of the Selection Sort Experiment for integers:\n",
    "\n",
    "| Array Size  | Selection Sort Computation Time  |   |   |   |\n",
    "|---|---|---|---|---|\n",
    "|5k   | ~9 seconds  |   |   |   |\n",
    "| 10k  |  ~35 seconds |   |   |   |\n",
    "| 15k  | ~79 seconds  |   |   |   |\n",
    "| 20k  | ~141 seconds  |   |   |   |\n",
    "| 25k  | ~222 seconds  |   |   |   |\n"
   ]
  },
  {
   "cell_type": "code",
   "execution_count": 4,
   "metadata": {
    "collapsed": true,
    "jupyter": {
     "outputs_hidden": true
    }
   },
   "outputs": [],
   "source": [
    "import numpy as np\n",
    "import pandas as pd\n",
    "import time\n",
    "import string\n",
    "import random\n",
    "import matplotlib.pyplot as plt\n",
    "\n",
    "\n",
    "plt.style.use('bmh')\n",
    "np.random.seed = 34 #set seed\n",
    "LOG = {} # Define Log\n",
    "\n",
    "#Define Data\n",
    "n = 1000\n",
    "int_1 = np.random.randint(0,10000, 5*n)\n",
    "int_2 = np.random.randint(0,10000, 10*n)\n",
    "int_3 = np.random.randint(0,10000, 15*n)\n",
    "int_4 = np.random.randint(0,10000, 20*n)\n",
    "int_5 = np.random.randint(0,10000, 25*n)\n",
    "\n",
    "float_1 = np.random.uniform(0,10000, 5*n)\n",
    "float_2 = np.random.uniform(0,10000, 10*n)\n",
    "float_3 = np.random.uniform(0,10000, 15*n)\n",
    "float_4 = np.random.uniform(0,10000, 20*n)\n",
    "float_5 = np.random.uniform(0,10000, 25*n)\n",
    "\n",
    "string_1 = [''.join(random.choices(string.ascii_letters, k = 15)) for _ in range(5*n)]\n",
    "string_2 = [''.join(random.choices(string.ascii_letters, k = 15)) for _ in range(10*n)]\n",
    "string_3 = [''.join(random.choices(string.ascii_letters, k = 15)) for _ in range(15*n)]\n",
    "string_4 = [''.join(random.choices(string.ascii_letters, k = 15)) for _ in range(20*n)]\n",
    "string_5 = [''.join(random.choices(string.ascii_letters, k = 15)) for _ in range(25*n)]\n",
    "\n",
    "#Setting up the different sets of arrays we created \n",
    "string_arrays = [string_1, string_2, string_3, string_4, string_5] #Raw data\n",
    "int_arrays = [int_1, int_2, int_3, int_4, int_5] #Raw data\n",
    "float_arrays = [float_1, float_2, float_3, float_4, float_5] #Raw data"
   ]
  },
  {
   "cell_type": "markdown",
   "metadata": {},
   "source": [
    "## Timing Mechanism\n",
    "- The timing mechanism used in this experiment wraps functions and times their overall time to return function output. \n",
    "- A dictionary \"LOG\" is updated with the output times of the functions"
   ]
  },
  {
   "cell_type": "code",
   "execution_count": 5,
   "metadata": {
    "collapsed": true,
    "jupyter": {
     "outputs_hidden": true
    }
   },
   "outputs": [],
   "source": [
    "def timeit(log):\n",
    "    \"\"\" Wraps functions needing timing provided a dictionary to dump into based on function name\"\"\"\n",
    "    def log_it(func):\n",
    "        def wrapped(*args, **kw):\n",
    "            ts = time.time_ns() // 1000000 \n",
    "            result = func(*args, **kw)\n",
    "            te = time.time_ns() // 1000000 \n",
    "            if func.__name__ in log.keys():\n",
    "                log[func.__name__].append(te-ts)\n",
    "            else:\n",
    "                log[func.__name__] = [te-ts]\n",
    "            return result\n",
    "        return wrapped\n",
    "    return log_it"
   ]
  },
  {
   "cell_type": "markdown",
   "metadata": {},
   "source": [
    "## Selection Sort Algorithm\n",
    "\n",
    "The selection sort is a comparison type sort that operates in $O(n^2)$ time complexity. It iterates through the array checking for the smallest element and then replacing that smallest element to the front of the array. The algorithm repeats with the scope of the array shortened by one element (the first smallest detected element). The algorithm will repeat until there are no elements smaller than the last smallest element indicating the sort has completed. The reason this takes $n^2$ time is because the algorithm will go through n^2 iterations for the largest element in the list, and at least one iteration for even the smallest elements. This algorithm could be implemented recursively. "
   ]
  },
  {
   "cell_type": "code",
   "execution_count": 6,
   "metadata": {
    "collapsed": true,
    "jupyter": {
     "outputs_hidden": true
    }
   },
   "outputs": [],
   "source": [
    "@timeit(LOG)\n",
    "def selection_sort(arr: list) -> list:\n",
    "    \"\"\"\n",
    "    Returns a sorted array in O(n^2) time\n",
    "    ----------\n",
    "        arr : list, array\n",
    "            the array to sort\n",
    "    \"\"\"\n",
    "    for i in range(0, len(arr)-1):\n",
    "        small = i\n",
    "        for j in range(i+1, len(arr)):\n",
    "            if arr[j] < arr[small]:\n",
    "                small = j\n",
    "        temp_i = arr[i]\n",
    "        arr[i] = arr[small]\n",
    "        arr[small] = temp_i\n",
    "    return arr\n",
    "    \n"
   ]
  },
  {
   "cell_type": "markdown",
   "metadata": {},
   "source": [
    "## Quick Sort Algorithm\n",
    "As a comparison, I've optimized the quick sort algoirthm so that random pivots are used, greatly improving the average case. This algorithm is a good contrast to the selection sort as its average case is $O(n$ $log$ $n )$ but in the worst case it is the same as the selection sort $O(n^2)$.\n"
   ]
  },
  {
   "cell_type": "code",
   "execution_count": 7,
   "metadata": {
    "collapsed": true,
    "jupyter": {
     "outputs_hidden": true
    }
   },
   "outputs": [],
   "source": [
    "@timeit(LOG)\n",
    "def total_qsort(arr):\n",
    "    def qsort(arr):\n",
    "        \"\"\"\n",
    "        Returns a sorted array. Time-complexity = O(n log n)\n",
    "        Parameters\n",
    "        ----------\n",
    "            arr : list, array\n",
    "                the array to sort\n",
    "        \"\"\"\n",
    "        #Base case  (already sorted)\n",
    "        if len(arr) < 2:\n",
    "            return arr\n",
    "        #Recursive case\n",
    "        else:\n",
    "            pivot = arr[np.random.randint(0,len(arr))]\n",
    "            less = [i for i in arr[1:] if i <= pivot]\n",
    "            greater = [i for i in arr[1:] if i > pivot]\n",
    "            return qsort(less) + [pivot] + qsort(greater)\n",
    "    return qsort(arr)"
   ]
  },
  {
   "cell_type": "markdown",
   "metadata": {},
   "source": [
    "## Python's native sorting method (\"Timsort\")\n",
    "Python's native sorting method deploys an assessment of the array prior to determining the right algorithm to use. If the number of elements is < 64, it deploys the Insertion sort algorithm which is technically a $O(n^2)$ but is very fast for small arrays. When the array is larger it deploys a method similar to merge sort which is an algorithm we have yet to explore, but operates similarly to quick sort in $O(n log n)$"
   ]
  },
  {
   "cell_type": "code",
   "execution_count": null,
   "metadata": {
    "collapsed": true,
    "jupyter": {
     "outputs_hidden": true
    }
   },
   "outputs": [],
   "source": [
    "@timeit(LOG)\n",
    "def native_sort(arr):\n",
    "    return sorted(arr)"
   ]
  },
  {
   "cell_type": "markdown",
   "metadata": {},
   "source": [
    "## Executing Sorting Time Experiment "
   ]
  },
  {
   "cell_type": "code",
   "execution_count": 20,
   "metadata": {
    "collapsed": true,
    "jupyter": {
     "outputs_hidden": true
    }
   },
   "outputs": [],
   "source": [
    "#Trials of experiment\n",
    "trials = 1 "
   ]
  },
  {
   "cell_type": "markdown",
   "metadata": {},
   "source": [
    "### Selection sort will be deployed on each integer, float, and string array sets.\n",
    "Size of arrays: 5000, 10000, 15000, 20000, 25000"
   ]
  },
  {
   "cell_type": "code",
   "execution_count": 10,
   "metadata": {
    "collapsed": true,
    "jupyter": {
     "outputs_hidden": true
    }
   },
   "outputs": [],
   "source": [
    "for each_array in int_arrays:\n",
    "    for trial in range(trials):\n",
    "        s_a = selection_sort(each_array)\n",
    "\n",
    "for each_array in float_arrays:\n",
    "    for trial in range(trials):\n",
    "        s_a = selection_sort(each_array)\n",
    "    \n",
    "for each_array in string_arrays:\n",
    "    for trial in range(trials):\n",
    "        s_a = selection_sort(each_array)\n"
   ]
  },
  {
   "cell_type": "markdown",
   "metadata": {},
   "source": [
    "### Python's native sort will be deployed on each integer, float, and string array sets.\n",
    "Size of arrays: 5000, 10000, 15000, 20000, 25000"
   ]
  },
  {
   "cell_type": "code",
   "execution_count": 11,
   "metadata": {
    "collapsed": true,
    "jupyter": {
     "outputs_hidden": true
    }
   },
   "outputs": [],
   "source": [
    "for each_array in int_arrays:\n",
    "    for trial in range(trials):\n",
    "        s_a = native_sort(each_array)\n",
    "    \n",
    "for each_array in float_arrays:\n",
    "    for trial in range(trials):\n",
    "        s_a = native_sort(each_array)\n",
    "\n",
    "for each_array in string_arrays:\n",
    "    for trial in range(trials):\n",
    "        s_a = native_sort(each_array)"
   ]
  },
  {
   "cell_type": "markdown",
   "metadata": {},
   "source": [
    "### Quick Sort will be deployed on each integer, float, and string array sets.\n",
    "Size of arrays: 5000, 10000, 15000, 20000, 25000"
   ]
  },
  {
   "cell_type": "code",
   "execution_count": 12,
   "metadata": {
    "collapsed": true,
    "jupyter": {
     "outputs_hidden": true
    }
   },
   "outputs": [],
   "source": [
    "for each_array in int_arrays:\n",
    "    for trial in range(trials):\n",
    "        s_a = total_qsort(each_array)\n",
    "    \n",
    "for each_array in float_arrays:\n",
    "    for trial in range(trials):\n",
    "        s_a = total_qsort(each_array)\n",
    "\n",
    "for each_array in string_arrays:\n",
    "    for trial in range(trials):\n",
    "        s_a = total_qsort(each_array)"
   ]
  },
  {
   "cell_type": "markdown",
   "metadata": {},
   "source": [
    "## Results"
   ]
  },
  {
   "cell_type": "markdown",
   "metadata": {},
   "source": [
    "The results show that selection sort exponentially increases in proportion to the increasing array size. In this experiment, the array size increased from 5000 to 10000 while the computation time increased from ~9000 to ~35000. Said otherwise, as the array sized doubled, the computation time nearly quadrupled. \n",
    "\n",
    "Interestingly, the 15 character length randomized strings take much less computation time compared to their integer and float counterparts, although still exponential. "
   ]
  },
  {
   "cell_type": "code",
   "execution_count": 17,
   "metadata": {
    "collapsed": true,
    "jupyter": {
     "outputs_hidden": true
    }
   },
   "outputs": [],
   "source": [
    "df = pd.DataFrame({\n",
    "    'array_length':list(map(len, int_arrays)),\n",
    "    'int_log':LOG['selection_sort'][:5], \n",
    "    'float_log':LOG['selection_sort'][5:10], \n",
    "    'string_log':LOG['selection_sort'][10:15],\n",
    "    'nint_log':LOG['native_sort'][:5], \n",
    "    'nfloat_log':LOG['native_sort'][5:10], \n",
    "    'nstring_log':LOG['native_sort'][10:15],\n",
    "    'qint_log':LOG['total_qsort'][:5], \n",
    "    'qfloat_log':LOG['total_qsort'][5:10], \n",
    "    'qstring_log':LOG['total_qsort'][10:15]\n",
    "})"
   ]
  },
  {
   "cell_type": "code",
   "execution_count": 22,
   "metadata": {},
   "outputs": [
    {
     "data": {
      "text/html": [
       "<div>\n",
       "<style scoped>\n",
       "    .dataframe tbody tr th:only-of-type {\n",
       "        vertical-align: middle;\n",
       "    }\n",
       "\n",
       "    .dataframe tbody tr th {\n",
       "        vertical-align: top;\n",
       "    }\n",
       "\n",
       "    .dataframe thead th {\n",
       "        text-align: right;\n",
       "    }\n",
       "</style>\n",
       "<table border=\"1\" class=\"dataframe\">\n",
       "  <thead>\n",
       "    <tr style=\"text-align: right;\">\n",
       "      <th></th>\n",
       "      <th>array_length</th>\n",
       "      <th>int_log</th>\n",
       "      <th>float_log</th>\n",
       "      <th>string_log</th>\n",
       "      <th>nint_log</th>\n",
       "      <th>nfloat_log</th>\n",
       "      <th>nstring_log</th>\n",
       "      <th>qint_log</th>\n",
       "      <th>qfloat_log</th>\n",
       "      <th>qstring_log</th>\n",
       "    </tr>\n",
       "  </thead>\n",
       "  <tbody>\n",
       "    <tr>\n",
       "      <th>0</th>\n",
       "      <td>5000</td>\n",
       "      <td>9026</td>\n",
       "      <td>9136</td>\n",
       "      <td>2850</td>\n",
       "      <td>0</td>\n",
       "      <td>0</td>\n",
       "      <td>0</td>\n",
       "      <td>74</td>\n",
       "      <td>54</td>\n",
       "      <td>67</td>\n",
       "    </tr>\n",
       "    <tr>\n",
       "      <th>1</th>\n",
       "      <td>10000</td>\n",
       "      <td>35388</td>\n",
       "      <td>36498</td>\n",
       "      <td>12016</td>\n",
       "      <td>1</td>\n",
       "      <td>0</td>\n",
       "      <td>0</td>\n",
       "      <td>121</td>\n",
       "      <td>112</td>\n",
       "      <td>113</td>\n",
       "    </tr>\n",
       "    <tr>\n",
       "      <th>2</th>\n",
       "      <td>15000</td>\n",
       "      <td>79710</td>\n",
       "      <td>80571</td>\n",
       "      <td>26399</td>\n",
       "      <td>0</td>\n",
       "      <td>3</td>\n",
       "      <td>0</td>\n",
       "      <td>188</td>\n",
       "      <td>151</td>\n",
       "      <td>162</td>\n",
       "    </tr>\n",
       "    <tr>\n",
       "      <th>3</th>\n",
       "      <td>20000</td>\n",
       "      <td>141752</td>\n",
       "      <td>142144</td>\n",
       "      <td>47161</td>\n",
       "      <td>3</td>\n",
       "      <td>4</td>\n",
       "      <td>0</td>\n",
       "      <td>238</td>\n",
       "      <td>187</td>\n",
       "      <td>201</td>\n",
       "    </tr>\n",
       "    <tr>\n",
       "      <th>4</th>\n",
       "      <td>25000</td>\n",
       "      <td>222014</td>\n",
       "      <td>219026</td>\n",
       "      <td>74347</td>\n",
       "      <td>0</td>\n",
       "      <td>4</td>\n",
       "      <td>5</td>\n",
       "      <td>315</td>\n",
       "      <td>300</td>\n",
       "      <td>275</td>\n",
       "    </tr>\n",
       "  </tbody>\n",
       "</table>\n",
       "</div>"
      ],
      "text/plain": [
       "   array_length  int_log  float_log  string_log  nint_log  nfloat_log  \\\n",
       "0          5000     9026       9136        2850         0           0   \n",
       "1         10000    35388      36498       12016         1           0   \n",
       "2         15000    79710      80571       26399         0           3   \n",
       "3         20000   141752     142144       47161         3           4   \n",
       "4         25000   222014     219026       74347         0           4   \n",
       "\n",
       "   nstring_log  qint_log  qfloat_log  qstring_log  \n",
       "0            0        74          54           67  \n",
       "1            0       121         112          113  \n",
       "2            0       188         151          162  \n",
       "3            0       238         187          201  \n",
       "4            5       315         300          275  "
      ]
     },
     "execution_count": 22,
     "metadata": {},
     "output_type": "execute_result"
    }
   ],
   "source": [
    "df"
   ]
  },
  {
   "cell_type": "code",
   "execution_count": 24,
   "metadata": {},
   "outputs": [
    {
     "data": {
      "text/plain": [
       "<matplotlib.legend.Legend at 0xf141d18>"
      ]
     },
     "execution_count": 24,
     "metadata": {},
     "output_type": "execute_result"
    },
    {
     "data": {
      "image/png": "[encoded data removed]",
      "text/plain": [
       "<Figure size 1080x432 with 3 Axes>"
      ]
     },
     "metadata": {
      "needs_background": "light"
     },
     "output_type": "display_data"
    }
   ],
   "source": [
    "fig, axes = plt.subplots(nrows = 1, ncols = 3, figsize = (15,6))\n",
    "ax1,ax2,ax3 = axes.flatten()\n",
    "\n",
    "ax1.plot(df['array_length'], df['int_log'], label = 'int')\n",
    "ax1.plot(df['array_length'], df['float_log'], label = 'float')\n",
    "ax1.plot(df['array_length'], df['string_log'], label = 'string')\n",
    "ax1.set_title('Selection Sort ')\n",
    "ax1.set_xlabel('Size of array')\n",
    "ax1.set_ylabel('Time (ms)')\n",
    "ax1.legend()\n",
    "\n",
    "ax2.plot(df['array_length'], df['nint_log'], label = 'int')\n",
    "ax2.plot(df['array_length'], df['nfloat_log'], label = 'float')\n",
    "ax2.plot(df['array_length'], df['nstring_log'], label = 'string')\n",
    "ax2.set_title('Native Sort')\n",
    "ax2.set_xlabel('Size of array')\n",
    "ax2.set_ylabel('Time (ms)')\n",
    "ax2.legend()\n",
    "\n",
    "ax3.plot(df['array_length'], df['qint_log'], label = 'int')\n",
    "ax3.plot(df['array_length'], df['qfloat_log'], label = 'float')\n",
    "ax3.plot(df['array_length'], df['qstring_log'], label = 'string')\n",
    "ax3.set_title('Quick Sort')\n",
    "ax3.set_xlabel('Size of array')\n",
    "ax3.set_ylabel('Time (ms)')\n",
    "ax3.legend()"
   ]
  },
  {
   "cell_type": "code",
   "execution_count": null,
   "metadata": {
    "collapsed": true,
    "jupyter": {
     "outputs_hidden": true
    }
   },
   "outputs": [],
   "source": []
  }
 ],
 "metadata": {
  "kernelspec": {
   "display_name": "Python 3",
   "language": "python",
   "name": "python3"
  },
  "language_info": {
   "codemirror_mode": {
    "name": "ipython",
    "version": 3
   },
   "file_extension": ".py",
   "mimetype": "text/x-python",
   "name": "python",
   "nbconvert_exporter": "python",
   "pygments_lexer": "ipython3",
   "version": "3.8.1"
  }
 },
 "nbformat": 4,
 "nbformat_minor": 4
}
