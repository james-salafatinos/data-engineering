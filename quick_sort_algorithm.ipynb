{
 "cells": [
  {
   "cell_type": "markdown",
   "metadata": {},
   "source": [
    "# Sorting Algorithm Experiment"
   ]
  },
  {
   "cell_type": "markdown",
   "metadata": {},
   "source": [
    "## Executive Summary\n"
   ]
  },
  {
   "cell_type": "markdown",
   "metadata": {},
   "source": [
    "Set up five lists of randomly generated strings of characters (i.e. a-z or A-Z e.g. abcdefkjklkjlkjlkjkljlkjlkjlkjkljasdfgtredghjkiuyt). Each string should be 50 characters long. The first list should have 200 strings (each string should be 50 characters long), second should have 400 strings (again each string is 50 characters), third 600 (same length strings i.e. 50 characters), fourth 800 (string length continues to be 50 characters), and last/fifth 1000 strings (yes 50 characters in each string). \n",
    "You may use the code we used in previous homework assignments.  Make sure the list is unsorted and does not contain any duplicates.\n",
    "Use the textbook implementation of quicksort to sort the data, being sure to capture the amount of time it takes for each list. \n",
    "Now use at least two other sorting algorithms on the same data set (e.g. merge sort, bubble sort, insertion sort, etc).  Make sure that you code the sorting algorithm and you do not use a builtin function. By this I mean you may not use np.sort() or sorted(), etc.  You must code the algorithm in order to compare the complexity of each.  Here is a good resource https://www.geeksforgeeks.org/sorting-algorithms/ (Links to an external site.)).  Capture the computation time for each list using each sorting algorithm that you have used. \n",
    "\n",
    "Remember to use an unsorted copy of the list each time.  Some functions alter the original list and don't return a copy.  For instance, take a look at pancake sort\n",
    "\n",
    "arr = [23, 10, 20, 11, 12, 6, 7]\n",
    "print(arr)\n",
    ">> [23, 10, 20, 11, 12, 6, 7]\n",
    "n = len(arr)\n",
    "pancakeSort(arr, n)\n",
    "print(arr)\n",
    ">> [6, 7, 10, 11, 12, 20, 23]\n",
    "\n",
    "arr now can NOT be used for another test.  Be sure to use proper copies if your choice of algorithm does this (not all do).  Reach out if you need a hand with this.\n",
    "\n",
    "Create a table containing each algorithm and the timings for each list.  Provide a graph showing how each algorithm scales with size of list (also compare the algorithms themselves).  Discuss your findings with explanations for what you observe.  "
   ]
  },
  {
   "cell_type": "markdown",
   "metadata": {},
   "source": [
    "## Data Setup"
   ]
  },
  {
   "cell_type": "code",
   "execution_count": 1,
   "metadata": {},
   "outputs": [],
   "source": [
    "import numpy as np\n",
    "import pandas as pd\n",
    "import time\n",
    "import string\n",
    "import random\n",
    "import matplotlib.pyplot as plt\n",
    "\n",
    "\n",
    "plt.style.use('bmh')\n",
    "np.random.seed = 34 #set seed\n",
    "LOG = {} # Define Log\n",
    "\n",
    "#Define Data\n",
    "n = 1000\n",
    "int_1 = np.random.randint(0,10000, 5*n)\n",
    "int_2 = np.random.randint(0,10000, 10*n)\n",
    "int_3 = np.random.randint(0,10000, 15*n)\n",
    "int_4 = np.random.randint(0,10000, 20*n)\n",
    "int_5 = np.random.randint(0,10000, 25*n)\n",
    "\n",
    "float_1 = np.random.uniform(0,10000, 5*n)\n",
    "float_2 = np.random.uniform(0,10000, 10*n)\n",
    "float_3 = np.random.uniform(0,10000, 15*n)\n",
    "float_4 = np.random.uniform(0,10000, 20*n)\n",
    "float_5 = np.random.uniform(0,10000, 25*n)\n",
    "\n",
    "string_1 = [''.join(random.choices(string.ascii_lowercase, k = 50)) for _ in range(200)]\n",
    "string_2 = [''.join(random.choices(string.ascii_lowercase, k = 50)) for _ in range(400)]\n",
    "string_3 = [''.join(random.choices(string.ascii_lowercase, k = 50)) for _ in range(600)]\n",
    "string_4 = [''.join(random.choices(string.ascii_lowercase, k = 50)) for _ in range(800)]\n",
    "string_5 = [''.join(random.choices(string.ascii_lowercase, k = 50)) for _ in range(1000)]\n",
    "string_6 = [''.join(random.choices(string.ascii_lowercase, k = 50)) for _ in range(10000)]\n",
    "\n",
    "#Setting up the different sets of arrays we created \n",
    "string_arrays = [string_1, string_2, string_3, string_4, string_5,string_6] #Raw data\n",
    "int_arrays = [int_1, int_2, int_3, int_4, int_5] #Raw data\n",
    "float_arrays = [float_1, float_2, float_3, float_4, float_5] #Raw data"
   ]
  },
  {
   "cell_type": "code",
   "execution_count": 2,
   "metadata": {},
   "outputs": [
    {
     "data": {
      "text/plain": [
       "['ydlzmqwmlosfbgntqyocsfmgqfgedrtkwzampqiijglwngckql',\n",
       " 'qorinbakfsbgoshvymqovbniyorqutrtgvsgwxfkekmwjadcyz',\n",
       " 'zjkqkcdwwuebnsaymctfncefeecgqwclucsjzorevwdajohmen',\n",
       " 'kywaepsmlskeuhtqbypclkbffvondbyscgngwssprkmrpmvdgx',\n",
       " 'dpcvgjpipfkmvneawpowvadcuddlxvbumkyfupfqpbtenkkdpz']"
      ]
     },
     "execution_count": 2,
     "metadata": {},
     "output_type": "execute_result"
    }
   ],
   "source": [
    "string_1[:5]"
   ]
  },
  {
   "cell_type": "markdown",
   "metadata": {},
   "source": [
    "## Timing mechanism\n",
    "- The timing mechanism used in this experiment wraps functions and times their overall time to return function output. \n",
    "- A dictionary \"LOG\" is updated with the output times of the functions"
   ]
  },
  {
   "cell_type": "code",
   "execution_count": 3,
   "metadata": {},
   "outputs": [],
   "source": [
    "def timeit(log):\n",
    "    \"\"\" Wraps functions needing timing provided a dictionary to dump into based on function name\"\"\"\n",
    "    def log_it(func):\n",
    "        def wrapped(*args, **kw):\n",
    "            ts = time.time_ns() // 1000000 \n",
    "            result = func(*args, **kw)\n",
    "            te = time.time_ns() // 1000000 \n",
    "            if func.__name__ in log.keys():\n",
    "                log[func.__name__].append(te-ts)\n",
    "            else:\n",
    "                log[func.__name__] = [te-ts]\n",
    "            return result\n",
    "        return wrapped\n",
    "    return log_it"
   ]
  },
  {
   "cell_type": "markdown",
   "metadata": {},
   "source": [
    "## Selection Sort Algorithm\n",
    "\n",
    "The selection sort is a comparison type sort that operates in $O(n^2)$ time complexity. It iterates through the array checking for the smallest element and then replacing that smallest element to the front of the array. The algorithm repeats with the scope of the array shortened by one element (the first smallest detected element). The algorithm will repeat until there are no elements smaller than the last smallest element indicating the sort has completed. The reason this takes $n^2$ time is because the algorithm will go through n^2 iterations for the largest element in the list, and at least one iteration for even the smallest elements. This algorithm could be implemented recursively. "
   ]
  },
  {
   "cell_type": "code",
   "execution_count": 4,
   "metadata": {},
   "outputs": [],
   "source": [
    "@timeit(LOG)\n",
    "def selection_sort(arr: list) -> list:\n",
    "    \"\"\"\n",
    "    Returns a sorted array in O(n^2) time\n",
    "    ----------\n",
    "        arr : list, array\n",
    "            the array to sort\n",
    "    \"\"\"\n",
    "    for i in range(0, len(arr)-1):\n",
    "        small = i\n",
    "        for j in range(i+1, len(arr)):\n",
    "            if arr[j] < arr[small]:\n",
    "                small = j\n",
    "        temp_i = arr[i]\n",
    "        arr[i] = arr[small]\n",
    "        arr[small] = temp_i\n",
    "    return arr\n",
    "    \n"
   ]
  },
  {
   "cell_type": "markdown",
   "metadata": {},
   "source": [
    "## Quick Sort Algorithm\n",
    "As a comparison, I've optimized the quick sort algoirthm so that random pivots are used, greatly improving the average case. This algorithm is a good contrast to the selection sort as its average case is $O(n$ $log$ $n )$ but in the worst case it is the same as the selection sort $O(n^2)$.\n"
   ]
  },
  {
   "cell_type": "code",
   "execution_count": 5,
   "metadata": {},
   "outputs": [],
   "source": [
    "@timeit(LOG)\n",
    "def total_qsort(arr):\n",
    "    def qsort(arr):\n",
    "        \"\"\"\n",
    "        Returns a sorted array. Time-complexity = O(n log n)\n",
    "        Parameters\n",
    "        ----------\n",
    "            arr : list, array\n",
    "                the array to sort\n",
    "        \"\"\"\n",
    "        #Base case  (already sorted)\n",
    "        if len(arr) < 2:\n",
    "            return arr\n",
    "        #Recursive case\n",
    "        else:\n",
    "            pivot = arr[np.random.randint(0,len(arr))]\n",
    "            less = [i for i in arr[1:] if i <= pivot]\n",
    "            greater = [i for i in arr[1:] if i > pivot]\n",
    "            return qsort(less) + [pivot] + qsort(greater)\n",
    "    return qsort(arr)"
   ]
  },
  {
   "cell_type": "markdown",
   "metadata": {},
   "source": [
    "## Insertion Sort"
   ]
  },
  {
   "cell_type": "code",
   "execution_count": 6,
   "metadata": {},
   "outputs": [
    {
     "name": "stdout",
     "output_type": "stream",
     "text": [
      "[12, 11, 13, 5, 6]\n",
      "[5, 6, 11, 12, 13]\n"
     ]
    }
   ],
   "source": [
    "@timeit(LOG)\n",
    "def insertion_sort(arr): \n",
    "    temp = arr.copy()\n",
    "    # Traverse through 1 to len(arr) \n",
    "    for i in range(1, len(temp)): \n",
    "  \n",
    "        key = temp[i] \n",
    "  \n",
    "        # Move elements of arr[0..i-1], that are \n",
    "        # greater than key, to one position ahead \n",
    "        # of their current position \n",
    "        j = i-1\n",
    "        while j >= 0 and key < temp[j] : \n",
    "                temp[j + 1] = temp[j] \n",
    "                j -= 1\n",
    "        temp[j + 1] = key \n",
    "    return temp\n",
    "  \n",
    "  \n",
    "# Driver code to test above \n",
    "arr = [12, 11, 13, 5, 6] \n",
    "s = insertion_sort(arr) \n",
    "print(arr)\n",
    "print(s)\n"
   ]
  },
  {
   "cell_type": "code",
   "execution_count": 7,
   "metadata": {},
   "outputs": [
    {
     "data": {
      "text/plain": [
       "[5, 6, 11, 12, 13]"
      ]
     },
     "execution_count": 7,
     "metadata": {},
     "output_type": "execute_result"
    }
   ],
   "source": [
    "s"
   ]
  },
  {
   "cell_type": "markdown",
   "metadata": {},
   "source": [
    "## Heap Sort"
   ]
  },
  {
   "cell_type": "code",
   "execution_count": 8,
   "metadata": {},
   "outputs": [],
   "source": [
    "def heapify(arr, n, i): \n",
    "    largest = i # Initialize largest as root \n",
    "    l = 2 * i + 1     # left = 2*i + 1 \n",
    "    r = 2 * i + 2     # right = 2*i + 2 \n",
    "  \n",
    "    # See if left child of root exists and is \n",
    "    # greater than root \n",
    "    if l < n and arr[i] < arr[l]: \n",
    "        largest = l \n",
    "  \n",
    "    # See if right child of root exists and is \n",
    "    # greater than root \n",
    "    if r < n and arr[largest] < arr[r]: \n",
    "        largest = r \n",
    "  \n",
    "    # Change root, if needed \n",
    "    if largest != i: \n",
    "        arr[i],arr[largest] = arr[largest],arr[i] # swap \n",
    "  \n",
    "        # Heapify the root. \n",
    "        heapify(arr, n, largest) \n",
    "\n",
    "@timeit(LOG)\n",
    "def heap_sort(arr): \n",
    "    temp = arr.copy()\n",
    "    n = len(temp) \n",
    "  \n",
    "    # Build a maxheap. \n",
    "    for i in range(n//2 - 1, -1, -1): \n",
    "        heapify(temp, n, i) \n",
    "  \n",
    "    # One by one extract elements \n",
    "    for i in range(n-1, 0, -1): \n",
    "        temp[i], temp[0] = temp[0], temp[i] # swap \n",
    "        heapify(temp, i, 0) \n",
    "  "
   ]
  },
  {
   "cell_type": "markdown",
   "metadata": {},
   "source": [
    "## Merge Sort"
   ]
  },
  {
   "cell_type": "code",
   "execution_count": 9,
   "metadata": {},
   "outputs": [],
   "source": [
    "@timeit(LOG)\n",
    "def total_merge_sort(arr):\n",
    "    def mergeSort(arr): \n",
    "        if len(arr) >1: \n",
    "            mid = len(arr)//2 # Finding the mid of the array \n",
    "            L = arr[:mid] # Dividing the array elements  \n",
    "            R = arr[mid:] # into 2 halves \n",
    "\n",
    "            mergeSort(L) # Sorting the first half \n",
    "            mergeSort(R) # Sorting the second half \n",
    "\n",
    "            i = j = k = 0\n",
    "\n",
    "            # Copy data to temp arrays L[] and R[] \n",
    "            while i < len(L) and j < len(R): \n",
    "                if L[i] < R[j]: \n",
    "                    arr[k] = L[i] \n",
    "                    i+= 1\n",
    "                else: \n",
    "                    arr[k] = R[j] \n",
    "                    j+= 1\n",
    "                k+= 1\n",
    "\n",
    "            # Checking if any element was left \n",
    "            while i < len(L): \n",
    "                arr[k] = L[i] \n",
    "                i+= 1\n",
    "                k+= 1\n",
    "\n",
    "            while j < len(R): \n",
    "                arr[k] = R[j] \n",
    "                j+= 1\n",
    "                k+= 1\n",
    "    return mergeSort(arr)\n",
    "  "
   ]
  },
  {
   "cell_type": "markdown",
   "metadata": {},
   "source": [
    "## Experiment"
   ]
  },
  {
   "cell_type": "code",
   "execution_count": 10,
   "metadata": {},
   "outputs": [],
   "source": [
    "algos = [total_qsort, total_merge_sort, insertion_sort, selection_sort]"
   ]
  },
  {
   "cell_type": "code",
   "execution_count": 11,
   "metadata": {},
   "outputs": [],
   "source": [
    "for arr in string_arrays:\n",
    "    insertion_sort(arr)\n",
    "    total_qsort(arr)\n",
    "    total_merge_sort(arr)\n",
    "    heap_sort(arr)\n",
    "    selection_sort(arr)"
   ]
  },
  {
   "cell_type": "code",
   "execution_count": 12,
   "metadata": {},
   "outputs": [
    {
     "data": {
      "text/plain": [
       "{'insertion_sort': [0, 12, 46, 58, 103, 174, 12111],\n",
       " 'total_qsort': [5, 5, 6, 5, 17, 114],\n",
       " 'total_merge_sort': [2, 7, 0, 9, 14, 85],\n",
       " 'heap_sort': [10, 8, 18, 21, 17, 142],\n",
       " 'selection_sort': [24, 23, 49, 87, 134, 9041]}"
      ]
     },
     "execution_count": 12,
     "metadata": {},
     "output_type": "execute_result"
    }
   ],
   "source": [
    "LOG"
   ]
  },
  {
   "cell_type": "code",
   "execution_count": null,
   "metadata": {},
   "outputs": [],
   "source": []
  },
  {
   "cell_type": "code",
   "execution_count": null,
   "metadata": {},
   "outputs": [],
   "source": []
  }
 ],
 "metadata": {
  "kernelspec": {
   "display_name": "Python 3",
   "language": "python",
   "name": "python3"
  },
  "language_info": {
   "codemirror_mode": {
    "name": "ipython",
    "version": 3
   },
   "file_extension": ".py",
   "mimetype": "text/x-python",
   "name": "python",
   "nbconvert_exporter": "python",
   "pygments_lexer": "ipython3",
   "version": "3.8.5"
  }
 },
 "nbformat": 4,
 "nbformat_minor": 4
}
