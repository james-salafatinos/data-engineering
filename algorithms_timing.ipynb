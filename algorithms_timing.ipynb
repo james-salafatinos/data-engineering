{
 "cells": [
  {
   "cell_type": "markdown",
   "metadata": {},
   "source": [
    "# Search Algorithms"
   ]
  },
  {
   "cell_type": "markdown",
   "metadata": {},
   "source": [
    "### Data for tests\n",
    "To begin, let's generate some random data to work with. Ensure that a common random number seed is used to generate each of the arrays. We will make five arrays, each of length 512, 1024, 2048, 4096, and 8192 containing randomly generated uniformly distributed integers from 1 to 10000.  "
   ]
  },
  {
   "cell_type": "code",
   "execution_count": 43,
   "metadata": {},
   "outputs": [],
   "source": [
    "import numpy as np\n",
    "import pandas as pd\n",
    "import time\n",
    "np.random.seed = 34\n",
    "\n",
    "r_1 = np.random.randint(1,10000, 2**9)\n",
    "r_2 = np.random.randint(1,10000, 2**10)\n",
    "r_3 = np.random.randint(1,10000, 2**11)\n",
    "r_4 = np.random.randint(1,10000, 2**12)\n",
    "r_5 = np.random.randint(1,10000, 2**13)\n",
    "r_6 = np.random.randint(1,10000, 2**14)\n",
    "r_7 = np.random.randint(1,10000, 2**15)"
   ]
  },
  {
   "cell_type": "markdown",
   "metadata": {},
   "source": [
    "## Setup"
   ]
  },
  {
   "cell_type": "code",
   "execution_count": 44,
   "metadata": {},
   "outputs": [],
   "source": [
    "def timeit(log):\n",
    "    def log_it(func):\n",
    "        def wrapped(*args, **kw):\n",
    "            ts = time.time_ns() // 1000000 \n",
    "            result = func(*args, **kw)\n",
    "            te = time.time_ns() // 1000000 \n",
    "            log.append(te-ts)\n",
    "            return result\n",
    "        return wrapped\n",
    "    return log_it"
   ]
  },
  {
   "cell_type": "markdown",
   "metadata": {},
   "source": [
    "## Binary Search\n",
    "Here we want to explore binary search as a baseline, what is the maximum execution time for each array size, what is the average?\n",
    "\n",
    "The expiriment will be searching the largest number found in the array (predetermined)"
   ]
  },
  {
   "cell_type": "code",
   "execution_count": 45,
   "metadata": {},
   "outputs": [],
   "source": [
    "binary_log = []\n",
    "@timeit(binary_log)\n",
    "def binary_search(arr, item):\n",
    "    \"\"\"\n",
    "    Returns the index of the item if found, otherwise None. Time-complexity = O(log n)\n",
    "    Parameters\n",
    "    ----------\n",
    "        arr : list, array\n",
    "            the array to look in\n",
    "        item : int, float\n",
    "            the item to find\n",
    "    \"\"\"\n",
    "    high_idx = len(arr)-1\n",
    "    low_idx = 0\n",
    "\n",
    "    while low_idx <= high_idx:\n",
    "        mid_idx = (low_idx + high_idx)//2\n",
    "        guess = arr[mid_idx]\n",
    "        if guess == item:\n",
    "            return mid_idx\n",
    "        if guess > item:\n",
    "            high_idx = mid_idx - 1\n",
    "        else:\n",
    "            low_idx = mid_idx + 1\n",
    "    return None"
   ]
  },
  {
   "cell_type": "markdown",
   "metadata": {},
   "source": [
    "# Quick Sort"
   ]
  },
  {
   "cell_type": "code",
   "execution_count": 46,
   "metadata": {},
   "outputs": [],
   "source": [
    "sort_log = []\n",
    "@timeit(sort_log)\n",
    "def total_qsort(arr):\n",
    "    def qsort(arr):\n",
    "        \"\"\"\n",
    "        Returns a sorted array. Time-complexity = O(n log n)\n",
    "        Parameters\n",
    "        ----------\n",
    "            arr : list, array\n",
    "                the array to sort\n",
    "        \"\"\"\n",
    "        #Base case  (already sorted)\n",
    "        if len(arr) < 2:\n",
    "            return arr\n",
    "        #Recursive case\n",
    "        else:\n",
    "            pivot = arr[0]\n",
    "            less = [i for i in arr[1:] if i <= pivot]\n",
    "            greater = [i for i in arr[1:] if i > pivot]\n",
    "            return qsort(less) + [pivot] + qsort(greater)\n",
    "    return qsort(arr)"
   ]
  },
  {
   "cell_type": "markdown",
   "metadata": {},
   "source": [
    "# Binary Search Experiment"
   ]
  },
  {
   "cell_type": "code",
   "execution_count": 47,
   "metadata": {},
   "outputs": [],
   "source": [
    "#Output should be a table of 30 trials \n",
    "#of each array size and the time it took\n",
    "#to find the largest number\n",
    "r_1_max = max(r_1)\n",
    "r_2_max = max(r_2)\n",
    "r_3_max = max(r_3)\n",
    "r_4_max = max(r_4)\n",
    "r_5_max = max(r_5)\n",
    "r_6_max = max(r_6)\n",
    "r_7_max = max(r_7)"
   ]
  },
  {
   "cell_type": "markdown",
   "metadata": {},
   "source": [
    "#### Rules of the road\n",
    "- For binary search to work, it must be with a sorted array"
   ]
  },
  {
   "cell_type": "code",
   "execution_count": 48,
   "metadata": {},
   "outputs": [],
   "source": [
    "#Raw data\n",
    "arrays = [r_1,r_2,r_3,r_4,r_5, r_6,r_7]\n",
    "#Container for sorted\n",
    "sorted_arrays = []\n",
    "#Future search term for experiment\n",
    "search_item = [r_1_max,r_2_max,r_3_max,\n",
    "               r_4_max,r_5_max,r_6_max,r_7_max]\n",
    "\n",
    "trials = 100\n"
   ]
  },
  {
   "cell_type": "code",
   "execution_count": 49,
   "metadata": {},
   "outputs": [],
   "source": [
    "#Sorting the arrays, putting in container\n",
    "for each_array in arrays:\n",
    "    for trial in range(trials):\n",
    "        s_a = total_qsort(each_array)\n",
    "    sorted_arrays.append(s_a)"
   ]
  },
  {
   "cell_type": "code",
   "execution_count": 50,
   "metadata": {},
   "outputs": [
    {
     "data": {
      "text/plain": [
       "700"
      ]
     },
     "execution_count": 50,
     "metadata": {},
     "output_type": "execute_result"
    }
   ],
   "source": [
    "len(sort_log)"
   ]
  },
  {
   "cell_type": "code",
   "execution_count": 51,
   "metadata": {},
   "outputs": [],
   "source": [
    "for idx,array in enumerate(sorted_arrays):\n",
    "    for trial in range(trials):\n",
    "        binary_search(array, search_item[idx])"
   ]
  },
  {
   "cell_type": "code",
   "execution_count": 52,
   "metadata": {},
   "outputs": [
    {
     "data": {
      "text/plain": [
       "700"
      ]
     },
     "execution_count": 52,
     "metadata": {},
     "output_type": "execute_result"
    }
   ],
   "source": [
    "len(binary_log)"
   ]
  },
  {
   "cell_type": "markdown",
   "metadata": {},
   "source": [
    "# Linear Search"
   ]
  },
  {
   "cell_type": "code",
   "execution_count": 53,
   "metadata": {},
   "outputs": [],
   "source": [
    "linear_log = []\n",
    "@timeit(linear_log)\n",
    "def linear_search(arr, item):\n",
    "    \"\"\"\n",
    "    Returns the index of item in array if found, otherwise None. Time-complexity = O(n)\n",
    "    Parameters\n",
    "    ----------\n",
    "        arr : list, array\n",
    "            the array to look in\n",
    "        item : int, float\n",
    "            the item to find\n",
    "    \"\"\"\n",
    "    for i,potential in enumerate(arr):\n",
    "        if item == potential:\n",
    "            return i\n",
    "        else:\n",
    "            continue\n",
    "    return None"
   ]
  },
  {
   "cell_type": "code",
   "execution_count": 54,
   "metadata": {},
   "outputs": [],
   "source": [
    "for idx,array in enumerate(sorted_arrays):\n",
    "    for trial in range(trials):\n",
    "        linear_search(array, search_item[idx])"
   ]
  },
  {
   "cell_type": "code",
   "execution_count": 55,
   "metadata": {},
   "outputs": [
    {
     "data": {
      "text/plain": [
       "700"
      ]
     },
     "execution_count": 55,
     "metadata": {},
     "output_type": "execute_result"
    }
   ],
   "source": [
    "len(linear_log)"
   ]
  },
  {
   "cell_type": "code",
   "execution_count": 57,
   "metadata": {},
   "outputs": [],
   "source": [
    "df = pd.DataFrame({'Array Length': sorted(list(map(len, arrays))*trials),\n",
    "                   'qsort': sort_log,\n",
    "                   'binary':binary_log,\n",
    "                   'linear':linear_log, \n",
    "                   'binary_plus_sort': np.array(sort_log)})"
   ]
  },
  {
   "cell_type": "code",
   "execution_count": 65,
   "metadata": {},
   "outputs": [
    {
     "data": {
      "text/plain": [
       "<matplotlib.legend.Legend at 0x22c98e202b0>"
      ]
     },
     "execution_count": 65,
     "metadata": {},
     "output_type": "execute_result"
    },
    {
     "data": {
      "image/png": "[encoded data removed]",
      "text/plain": [
       "<Figure size 432x432 with 4 Axes>"
      ]
     },
     "metadata": {},
     "output_type": "display_data"
    }
   ],
   "source": [
    "import matplotlib.pyplot as plt\n",
    "plt.style.use('bmh')\n",
    "fig, axes = plt.subplots(nrows = 2, ncols = 2, figsize = (6,6))\n",
    "ax1,ax2,ax3,ax4 = axes.flatten()\n",
    "ax1.plot(df['Array Length'], df['qsort'], label = 'qsort')\n",
    "ax1.plot(df['Array Length'], df['binary'], label = 'binary')\n",
    "ax1.plot(df['Array Length'], df['linear'], label = 'linear')\n",
    "ax1.plot(df['Array Length'], df['binary_plus_sort'], label = 'qsort + binary')\n",
    "ax1.legend()\n",
    "\n",
    "ax2.plot(df['Array Length'], df['qsort'], label = 'qsort')\n",
    "ax2.plot(df['Array Length'], df['binary_plus_sort'], label = 'qsort + binary')\n",
    "ax2.legend()\n",
    "\n",
    "\n",
    "ax3.plot(df['Array Length'], df['binary'], label = 'binary')\n",
    "ax3.plot(df['Array Length'], df['linear'], label = 'linear')\n",
    "ax3.legend()\n"
   ]
  },
  {
   "cell_type": "code",
   "execution_count": null,
   "metadata": {},
   "outputs": [],
   "source": []
  },
  {
   "cell_type": "code",
   "execution_count": null,
   "metadata": {},
   "outputs": [],
   "source": []
  },
  {
   "cell_type": "code",
   "execution_count": null,
   "metadata": {},
   "outputs": [],
   "source": []
  },
  {
   "cell_type": "code",
   "execution_count": null,
   "metadata": {},
   "outputs": [],
   "source": []
  },
  {
   "cell_type": "code",
   "execution_count": null,
   "metadata": {},
   "outputs": [],
   "source": []
  },
  {
   "cell_type": "code",
   "execution_count": null,
   "metadata": {},
   "outputs": [],
   "source": []
  },
  {
   "cell_type": "code",
   "execution_count": null,
   "metadata": {},
   "outputs": [],
   "source": []
  },
  {
   "cell_type": "code",
   "execution_count": null,
   "metadata": {},
   "outputs": [],
   "source": []
  },
  {
   "cell_type": "code",
   "execution_count": null,
   "metadata": {},
   "outputs": [],
   "source": []
  },
  {
   "cell_type": "code",
   "execution_count": null,
   "metadata": {},
   "outputs": [],
   "source": []
  },
  {
   "cell_type": "code",
   "execution_count": null,
   "metadata": {},
   "outputs": [],
   "source": []
  },
  {
   "cell_type": "code",
   "execution_count": null,
   "metadata": {},
   "outputs": [],
   "source": []
  }
 ],
 "metadata": {
  "kernelspec": {
   "display_name": "Python 3",
   "language": "python",
   "name": "python3"
  },
  "language_info": {
   "codemirror_mode": {
    "name": "ipython",
    "version": 3
   },
   "file_extension": ".py",
   "mimetype": "text/x-python",
   "name": "python",
   "nbconvert_exporter": "python",
   "pygments_lexer": "ipython3",
   "version": "3.8.1"
  }
 },
 "nbformat": 4,
 "nbformat_minor": 4
}
