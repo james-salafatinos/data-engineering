{
 "cells": [
  {
   "cell_type": "markdown",
   "metadata": {},
   "source": [
    "# Search Algorithms"
   ]
  },
  {
   "cell_type": "markdown",
   "metadata": {},
   "source": [
    "In this exercise, we will begin to explore computational complexity and explore the differences in various sorting and search algorithms.  We will begin with the base code for sequential/linear and binary search as described in Chapter 1 of Grokking Algorithms (Bhargava 2016).  Example code for the base algorithm is available in the GitHub site for the textbook.\n",
    "\n",
    "To begin, let's generate some random data to work with. Ensure that a common random number seed is used to generate each of the arrays. We will make five arrays, each of length 512, 1024, 2048, 4096, and 8192 containing randomly generated uniformly distributed integers from 1 to 10000.  You may use the numpy package for this.  \n",
    "Sort each of the random number arrays from smallest to largest.  You may use any algorithm to sort the data.\n",
    "Execute the base search algorithm (binary search) (from the text and github code) for each of array, noting the execution time for each array.  With each execution use the maximum value of the random number array as the number for which you are searching.\n",
    "Now we will compare this to a linear search.  Use python (perhaps with the Pandas package) to prepare a five-column table containing the following columns with all times in milliseconds:\n",
    "length of the random number array\n",
    "sort time\n",
    "linear search time for the sorted array\n",
    "binary search time for the sorted array\n",
    "binary search plus sort times\n",
    "Use python matplotlib or Seaborn to generate a plot with the size of the random number array on the horizontal axis and with execution time in milliseconds on the vertical axis. The plot should show execution time against array size for linear and binary search algorithms alone.  Discuss the results.\n",
    "Use Python matplotlib or Seaborn to generate a measure of the size of the data set on the horizontal axis and with execution time in milliseconds on the vertical axis. The plot should show execution time against array size for each form of the algorithm being tested (last four columns of the table).  Discuss the results.\n",
    "Prepare an executive summary of your results, referring to the table and figures you have generated. Explain how your results relate to big O notation. Describe your results in language that management can understand. This summary should be included as text paragraphs in the Jupyter notebook. Explain how the algorithm works and why it is a useful to data engineers.\n",
    "\n",
    "Program code should conform to best practices in software development, as described in the coding/software development textbook used in the course.\n",
    "\n",
    "Set up a personal computer-based Git repository (or private repository on Github) for your work with algorithms this term. Beginning with this week's mini programming assignment, utilize Git as you work on software development."
   ]
  },
  {
   "cell_type": "markdown",
   "metadata": {},
   "source": [
    "# Notes\n",
    "n = size of the input to the algorithm\n",
    "\n",
    "$O(1)$\n",
    "- Constant\n",
    "\n",
    "$O(n)$\n",
    "- Linear\n",
    "\n",
    "$O(n^2)$\n",
    "- Quadratic\n",
    "\n",
    "$O(2^n)$\n",
    "- Exponential\n",
    "\n",
    "$O(log(n))$\n",
    "- Logarithmic\n",
    "\n",
    "\n",
    "\n",
    "\n",
    "Quicksort\n",
    "- Uses a pivot to split the array into 3 parts, the array filtered higher than the pivot, the array filtered lower than the pivot, and the pivot itself. Then the sort is called recursively onto each of this part until the divide and conquer leaves are all sorted, and they are concatenated.\n",
    "Pros\n",
    "- Parralelizable easily\n",
    "- $O(n log n) time complexity best case\n",
    "\n",
    "Cons\n",
    "- Worst case is $O(n^2)$ if an array is mostly sorted and the pivot is the opposite side of the sort direction. Using the median of the array to determine the pivot will guarantee $O(n^2)$ but unlikely to prove useful in most datasets\n",
    "\n",
    "Pro Tips\n",
    "- Pivot should be randomly selected\n",
    "\n"
   ]
  },
  {
   "cell_type": "markdown",
   "metadata": {},
   "source": [
    "### Imports, data, and setup\n",
    "To begin, let's generate some random data to work with. Ensure that a common random number seed is used to generate each of the arrays. We will make five arrays, each of length 512, 1024, 2048, 4096, and 8192 containing randomly generated uniformly distributed integers from 1 to 10000.  "
   ]
  },
  {
   "cell_type": "code",
   "execution_count": 1,
   "metadata": {},
   "outputs": [],
   "source": [
    "%load_ext autoreload\n",
    "%autoreload 2\n",
    "\n",
    "import numpy as np\n",
    "import pandas as pd\n",
    "import time\n",
    "\n",
    "np.random.seed = 34 #set seed\n",
    "LOG = {} # Define Log\n",
    "\n",
    "#Define Data\n",
    "r_1 = np.random.randint(1,10000, 2**9)\n",
    "r_2 = np.random.randint(1,10000, 2**10)\n",
    "r_3 = np.random.randint(1,10000, 2**11)\n",
    "r_4 = np.random.randint(1,10000, 2**12)\n",
    "r_5 = np.random.randint(1,10000, 2**13)\n",
    "r_6 = np.random.randint(1,10000, 2**14)\n",
    "r_7 = np.random.randint(1,10000, 2**15)"
   ]
  },
  {
   "cell_type": "markdown",
   "metadata": {},
   "source": [
    "## Timing Function\n"
   ]
  },
  {
   "cell_type": "code",
   "execution_count": 2,
   "metadata": {},
   "outputs": [],
   "source": [
    "def timeit(log):\n",
    "    \"\"\" Wraps functions needing timing provided a dictionary to dump into based on function name\"\"\"\n",
    "    def log_it(func):\n",
    "        def wrapped(*args, **kw):\n",
    "            ts = time.time_ns() // 1000000 \n",
    "            result = func(*args, **kw)\n",
    "            te = time.time_ns() // 1000000 \n",
    "            if func.__name__ in log.keys():\n",
    "                log[func.__name__].append(te-ts)\n",
    "            else:\n",
    "                log[func.__name__] = [te-ts]\n",
    "            return result\n",
    "        return wrapped\n",
    "    return log_it"
   ]
  },
  {
   "cell_type": "markdown",
   "metadata": {},
   "source": [
    "# Binary Search\n",
    "Here we want to explore binary search as a baseline, what is the maximum execution time for each array size, what is the average?\n",
    "\n",
    "The expiriment will be searching the largest number found in the array (predetermined)"
   ]
  },
  {
   "cell_type": "code",
   "execution_count": 3,
   "metadata": {},
   "outputs": [],
   "source": [
    "@timeit(LOG)\n",
    "def binary_search(arr, item):\n",
    "    \"\"\"\n",
    "    Returns the index of the item if found, otherwise None. Time-complexity = O(log n)\n",
    "    Parameters\n",
    "    ----------\n",
    "        arr : list, array\n",
    "            the array to look in\n",
    "        item : int, float\n",
    "            the item to find\n",
    "    \"\"\"\n",
    "    high_idx = len(arr)-1\n",
    "    low_idx = 0\n",
    "\n",
    "    while low_idx <= high_idx:\n",
    "        mid_idx = (low_idx + high_idx)//2\n",
    "        guess = arr[mid_idx]\n",
    "        if guess == item:\n",
    "            return mid_idx\n",
    "        if guess > item:\n",
    "            high_idx = mid_idx - 1\n",
    "        else:\n",
    "            low_idx = mid_idx + 1\n",
    "    return None"
   ]
  },
  {
   "cell_type": "markdown",
   "metadata": {},
   "source": [
    "# Linear Search"
   ]
  },
  {
   "cell_type": "code",
   "execution_count": null,
   "metadata": {},
   "outputs": [],
   "source": [
    "@timeit(LOG)\n",
    "def linear_search(arr, item):\n",
    "    \"\"\"\n",
    "    Returns the index of item in array if found, otherwise None. Time-complexity = O(n)\n",
    "    Parameters\n",
    "    ----------\n",
    "        arr : list, array\n",
    "            the array to look in\n",
    "        item : int, float\n",
    "            the item to find\n",
    "    \"\"\"\n",
    "    for i,potential in enumerate(arr):\n",
    "        if item == potential:\n",
    "            return i\n",
    "        else:\n",
    "            continue\n",
    "    return None"
   ]
  },
  {
   "cell_type": "markdown",
   "metadata": {},
   "source": [
    "# Quick Sort"
   ]
  },
  {
   "cell_type": "code",
   "execution_count": 4,
   "metadata": {},
   "outputs": [],
   "source": [
    "@timeit(LOG)\n",
    "def total_qsort(arr):\n",
    "    def qsort(arr):\n",
    "        \"\"\"\n",
    "        Returns a sorted array. Time-complexity = O(n log n)\n",
    "        Parameters\n",
    "        ----------\n",
    "            arr : list, array\n",
    "                the array to sort\n",
    "        \"\"\"\n",
    "        #Base case  (already sorted)\n",
    "        if len(arr) < 2:\n",
    "            return arr\n",
    "        #Recursive case\n",
    "        else:\n",
    "            pivot = arr[0]\n",
    "            less = [i for i in arr[1:] if i <= pivot]\n",
    "            greater = [i for i in arr[1:] if i > pivot]\n",
    "            return qsort(less) + [pivot] + qsort(greater)\n",
    "    return qsort(arr)"
   ]
  },
  {
   "cell_type": "markdown",
   "metadata": {},
   "source": [
    "# Python native sort"
   ]
  },
  {
   "cell_type": "code",
   "execution_count": 5,
   "metadata": {},
   "outputs": [],
   "source": [
    "@timeit(LOG)\n",
    "def native_sort(arr):\n",
    "    return sorted(arr)"
   ]
  },
  {
   "cell_type": "markdown",
   "metadata": {},
   "source": [
    "# Experiment\n",
    "- For binary search to work, it must be with a sorted array"
   ]
  },
  {
   "cell_type": "code",
   "execution_count": 6,
   "metadata": {},
   "outputs": [],
   "source": [
    "trials = 100 #Trials of experiment\n",
    "arrays = [r_1,r_2,r_3,r_4,r_5, r_6,r_7] #Raw data\n",
    "\n",
    "#Largest numbers in rando mdata arrays\n",
    "r_1_max = max(r_1)\n",
    "r_2_max = max(r_2)\n",
    "r_3_max = max(r_3)\n",
    "r_4_max = max(r_4)\n",
    "r_5_max = max(r_5)\n",
    "r_6_max = max(r_6)\n",
    "r_7_max = max(r_7)\n",
    "\n",
    "#Future search term for experiment\n",
    "search_item = [r_1_max,r_2_max,r_3_max,\n",
    "               r_4_max,r_5_max,r_6_max,r_7_max]\n"
   ]
  },
  {
   "cell_type": "markdown",
   "metadata": {},
   "source": [
    "### Recording sort time for 100 trials of each array size\n",
    "- Binary Search only works when arrays are sorted.\n",
    "- We will perform 100 trials of the qsort implementation above, and the native python sorted() function. The time it takes for these functions to execute will be logged 100 times."
   ]
  },
  {
   "cell_type": "code",
   "execution_count": 8,
   "metadata": {},
   "outputs": [],
   "source": [
    "#Sorting the arrays, putting in container, tracking time\n",
    "sorted_arrays = []\n",
    "for each_array in arrays:\n",
    "    for trial in range(trials):\n",
    "        s_a = total_qsort(each_array)\n",
    "    sorted_arrays.append(s_a)\n",
    "    \n",
    "#Sorting the arrays, putting in container, tracking time    \n",
    "sorted_arrays_native = []\n",
    "for each_array in arrays:\n",
    "    for trial in range(trials):\n",
    "        s_a = native_sort(each_array)\n",
    "    sorted_arrays_native.append(s_a)"
   ]
  },
  {
   "cell_type": "markdown",
   "metadata": {},
   "source": [
    "#### Recording search time for 100 trials over sorted arrays"
   ]
  },
  {
   "cell_type": "code",
   "execution_count": 11,
   "metadata": {},
   "outputs": [],
   "source": [
    "#Binary Search\n",
    "for idx,array in enumerate(sorted_arrays):\n",
    "    for trial in range(trials):\n",
    "        binary_search(array, search_item[idx])\n",
    "        \n",
    "#Linear Search\n",
    "for idx,array in enumerate(sorted_arrays):\n",
    "    for trial in range(trials):\n",
    "        linear_search(array, search_item[idx])"
   ]
  },
  {
   "cell_type": "markdown",
   "metadata": {},
   "source": [
    "# Results"
   ]
  },
  {
   "cell_type": "code",
   "execution_count": 22,
   "metadata": {},
   "outputs": [],
   "source": [
    "df = pd.DataFrame({'Array Length': sorted(list(map(len, arrays))*trials),\n",
    "                   'qsort': LOG['total_qsort'],\n",
    "                   'native_sort': LOG['native_sort'],\n",
    "                   'binary':LOG['binary_search'],\n",
    "                   'linear':LOG['linear_search'], \n",
    "                   'binary_plus_qsort': np.array(LOG['total_qsort']) + np.array(LOG['binary_search']),\n",
    "                   'binary_plus_native_sort': np.array(LOG['native_sort']) + np.array(LOG['binary_search'])})\n"
   ]
  },
  {
   "cell_type": "code",
   "execution_count": 34,
   "metadata": {},
   "outputs": [
    {
     "data": {
      "image/png": "[encoded data removed]",
      "text/plain": [
       "<Figure size 1080x432 with 3 Axes>"
      ]
     },
     "metadata": {
      "needs_background": "light"
     },
     "output_type": "display_data"
    }
   ],
   "source": [
    "import matplotlib.pyplot as plt\n",
    "plt.style.use('bmh')\n",
    "fig, axes = plt.subplots(nrows = 1, ncols = 3, figsize = (15,6))\n",
    "ax1,ax2,ax3 = axes.flatten()\n",
    "\n",
    "ax1.plot(df['Array Length'], df['qsort'], label = 'qsort')\n",
    "ax1.plot(df['Array Length'], df['native_sort'], label = 'native_sort')\n",
    "ax1.set_title('Quick Sort vs Python Native Sort')\n",
    "ax1.set_xlabel('Size of array')\n",
    "ax1.set_ylabel('Time (ns)')\n",
    "ax1.legend()\n",
    "\n",
    "ax2.plot(df['Array Length'], df['binary'], label = 'binary')\n",
    "ax2.plot(df['Array Length'], df['linear'], label = 'linear')\n",
    "ax2.set_title('Binary Search vs Linear Search')\n",
    "ax2.set_xlabel('Size of array')\n",
    "ax2.set_ylabel('Time (ns)')\n",
    "ax2.legend()\n",
    "\n",
    "\n",
    "\n",
    "ax3.plot(df['Array Length'], df['binary_plus_native_sort'], label = 'binary + native sort')\n",
    "ax3.plot(df['Array Length'], df['linear'], label = 'linear')\n",
    "ax3.set_title('Binary Search + Native Sort vs Linear Search')\n",
    "ax3.set_xlabel('Size of array')\n",
    "ax3.set_ylabel('Time (ns)')\n",
    "ax3.legend()\n",
    "\n",
    "plt.tight_layout()\n",
    "\n",
    "\n"
   ]
  },
  {
   "cell_type": "code",
   "execution_count": 36,
   "metadata": {},
   "outputs": [
    {
     "data": {
      "text/html": [
       "<div>\n",
       "<style scoped>\n",
       "    .dataframe tbody tr th:only-of-type {\n",
       "        vertical-align: middle;\n",
       "    }\n",
       "\n",
       "    .dataframe tbody tr th {\n",
       "        vertical-align: top;\n",
       "    }\n",
       "\n",
       "    .dataframe thead th {\n",
       "        text-align: right;\n",
       "    }\n",
       "</style>\n",
       "<table border=\"1\" class=\"dataframe\">\n",
       "  <thead>\n",
       "    <tr style=\"text-align: right;\">\n",
       "      <th></th>\n",
       "      <th>Array Length</th>\n",
       "      <th>qsort</th>\n",
       "      <th>native_sort</th>\n",
       "      <th>binary</th>\n",
       "      <th>linear</th>\n",
       "      <th>binary_plus_qsort</th>\n",
       "      <th>binary_plus_native_sort</th>\n",
       "    </tr>\n",
       "  </thead>\n",
       "  <tbody>\n",
       "    <tr>\n",
       "      <th>0</th>\n",
       "      <td>512</td>\n",
       "      <td>1.04</td>\n",
       "      <td>0.13</td>\n",
       "      <td>0.01</td>\n",
       "      <td>0.02</td>\n",
       "      <td>1.05</td>\n",
       "      <td>0.14</td>\n",
       "    </tr>\n",
       "    <tr>\n",
       "      <th>1</th>\n",
       "      <td>1024</td>\n",
       "      <td>2.15</td>\n",
       "      <td>0.24</td>\n",
       "      <td>0.00</td>\n",
       "      <td>0.06</td>\n",
       "      <td>2.15</td>\n",
       "      <td>0.24</td>\n",
       "    </tr>\n",
       "    <tr>\n",
       "      <th>2</th>\n",
       "      <td>2048</td>\n",
       "      <td>5.23</td>\n",
       "      <td>0.60</td>\n",
       "      <td>0.01</td>\n",
       "      <td>0.13</td>\n",
       "      <td>5.24</td>\n",
       "      <td>0.61</td>\n",
       "    </tr>\n",
       "    <tr>\n",
       "      <th>3</th>\n",
       "      <td>4096</td>\n",
       "      <td>10.81</td>\n",
       "      <td>1.26</td>\n",
       "      <td>0.00</td>\n",
       "      <td>0.26</td>\n",
       "      <td>10.81</td>\n",
       "      <td>1.26</td>\n",
       "    </tr>\n",
       "    <tr>\n",
       "      <th>4</th>\n",
       "      <td>8192</td>\n",
       "      <td>23.96</td>\n",
       "      <td>2.82</td>\n",
       "      <td>0.00</td>\n",
       "      <td>0.56</td>\n",
       "      <td>23.96</td>\n",
       "      <td>2.82</td>\n",
       "    </tr>\n",
       "    <tr>\n",
       "      <th>5</th>\n",
       "      <td>16384</td>\n",
       "      <td>48.79</td>\n",
       "      <td>6.36</td>\n",
       "      <td>0.01</td>\n",
       "      <td>1.09</td>\n",
       "      <td>48.80</td>\n",
       "      <td>6.37</td>\n",
       "    </tr>\n",
       "    <tr>\n",
       "      <th>6</th>\n",
       "      <td>32768</td>\n",
       "      <td>106.01</td>\n",
       "      <td>13.36</td>\n",
       "      <td>0.00</td>\n",
       "      <td>2.33</td>\n",
       "      <td>106.01</td>\n",
       "      <td>13.36</td>\n",
       "    </tr>\n",
       "  </tbody>\n",
       "</table>\n",
       "</div>"
      ],
      "text/plain": [
       "   Array Length   qsort  native_sort  binary  linear  binary_plus_qsort  \\\n",
       "0           512    1.04         0.13    0.01    0.02               1.05   \n",
       "1          1024    2.15         0.24    0.00    0.06               2.15   \n",
       "2          2048    5.23         0.60    0.01    0.13               5.24   \n",
       "3          4096   10.81         1.26    0.00    0.26              10.81   \n",
       "4          8192   23.96         2.82    0.00    0.56              23.96   \n",
       "5         16384   48.79         6.36    0.01    1.09              48.80   \n",
       "6         32768  106.01        13.36    0.00    2.33             106.01   \n",
       "\n",
       "   binary_plus_native_sort  \n",
       "0                     0.14  \n",
       "1                     0.24  \n",
       "2                     0.61  \n",
       "3                     1.26  \n",
       "4                     2.82  \n",
       "5                     6.37  \n",
       "6                    13.36  "
      ]
     },
     "execution_count": 36,
     "metadata": {},
     "output_type": "execute_result"
    }
   ],
   "source": [
    "df = df.groupby(['Array Length']).agg(np.mean).reset_index()\n",
    "df"
   ]
  },
  {
   "cell_type": "code",
   "execution_count": null,
   "metadata": {},
   "outputs": [],
   "source": [
    "\n",
    "fig, axes = plt.subplots(nrows = 1, ncols = 3, figsize = (15,6))\n",
    "ax1,ax2,ax3 = axes.flatten()\n",
    "\n",
    "ax1.plot(df['Array Length'], df['qsort'], label = 'qsort')\n",
    "ax1.plot(df['Array Length'], df['native_sort'], label = 'native_sort')\n",
    "ax1.set_title('Quick Sort vs Python Native Sort')\n",
    "ax1.set_xlabel('Size of array')\n",
    "ax1.set_ylabel('Time (ns)')\n",
    "ax1.legend()\n",
    "\n",
    "ax2.plot(df['Array Length'], df['binary'], label = 'binary')\n",
    "ax2.plot(df['Array Length'], df['linear'], label = 'linear')\n",
    "ax2.set_title('Binary Search vs Linear Search')\n",
    "ax2.set_xlabel('Size of array')\n",
    "ax2.set_ylabel('Time (ns)')\n",
    "ax2.legend()\n",
    "\n",
    "\n",
    "\n",
    "ax3.plot(df['Array Length'], df['binary_plus_native_sort'], label = 'binary + native sort')\n",
    "ax3.plot(df['Array Length'], df['linear'], label = 'linear')\n",
    "ax3.set_title('Binary Search + Native Sort vs Linear Search')\n",
    "ax3.set_xlabel('Size of array')\n",
    "ax3.set_ylabel('Time (ns)')\n",
    "ax3.legend()\n",
    "\n",
    "plt.tight_layout()"
   ]
  },
  {
   "cell_type": "code",
   "execution_count": null,
   "metadata": {},
   "outputs": [],
   "source": []
  },
  {
   "cell_type": "code",
   "execution_count": null,
   "metadata": {},
   "outputs": [],
   "source": []
  },
  {
   "cell_type": "code",
   "execution_count": null,
   "metadata": {},
   "outputs": [],
   "source": []
  },
  {
   "cell_type": "code",
   "execution_count": null,
   "metadata": {},
   "outputs": [],
   "source": []
  },
  {
   "cell_type": "code",
   "execution_count": null,
   "metadata": {},
   "outputs": [],
   "source": []
  },
  {
   "cell_type": "code",
   "execution_count": null,
   "metadata": {},
   "outputs": [],
   "source": []
  },
  {
   "cell_type": "code",
   "execution_count": null,
   "metadata": {},
   "outputs": [],
   "source": []
  },
  {
   "cell_type": "code",
   "execution_count": null,
   "metadata": {},
   "outputs": [],
   "source": []
  },
  {
   "cell_type": "code",
   "execution_count": null,
   "metadata": {},
   "outputs": [],
   "source": []
  },
  {
   "cell_type": "code",
   "execution_count": null,
   "metadata": {},
   "outputs": [],
   "source": []
  }
 ],
 "metadata": {
  "kernelspec": {
   "display_name": "Python 3",
   "language": "python",
   "name": "python3"
  },
  "language_info": {
   "codemirror_mode": {
    "name": "ipython",
    "version": 3
   },
   "file_extension": ".py",
   "mimetype": "text/x-python",
   "name": "python",
   "nbconvert_exporter": "python",
   "pygments_lexer": "ipython3",
   "version": "3.8.5"
  }
 },
 "nbformat": 4,
 "nbformat_minor": 4
}
